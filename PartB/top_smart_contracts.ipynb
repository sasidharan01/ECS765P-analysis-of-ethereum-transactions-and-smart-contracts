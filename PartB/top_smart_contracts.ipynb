{
 "cells": [
  {
   "cell_type": "code",
   "execution_count": 1,
   "id": "4b89a1d5-41b1-4844-b980-eb675bc273e7",
   "metadata": {
    "tags": []
   },
   "outputs": [
    {
     "name": "stdout",
     "output_type": "stream",
     "text": [
      "Requirement already satisfied: tabulate in /opt/conda/lib/python3.10/site-packages (0.9.0)\n"
     ]
    }
   ],
   "source": [
    "!pip install tabulate\n",
    "import pandas as pd\n",
    "import json\n",
    "from tabulate import tabulate\n"
   ]
  },
  {
   "cell_type": "code",
   "execution_count": 2,
   "id": "5bc7a527-9597-4038-a3e1-df4ebc51028e",
   "metadata": {
    "tags": []
   },
   "outputs": [
    {
     "data": {
      "text/html": [
       "<div>\n",
       "<style scoped>\n",
       "    .dataframe tbody tr th:only-of-type {\n",
       "        vertical-align: middle;\n",
       "    }\n",
       "\n",
       "    .dataframe tbody tr th {\n",
       "        vertical-align: top;\n",
       "    }\n",
       "\n",
       "    .dataframe thead th {\n",
       "        text-align: right;\n",
       "    }\n",
       "</style>\n",
       "<table border=\"1\" class=\"dataframe\">\n",
       "  <thead>\n",
       "    <tr style=\"text-align: right;\">\n",
       "      <th></th>\n",
       "      <th>Address</th>\n",
       "      <th>Value</th>\n",
       "      <th>Rank</th>\n",
       "    </tr>\n",
       "  </thead>\n",
       "  <tbody>\n",
       "    <tr>\n",
       "      <th>0</th>\n",
       "      <td>0xaa1a6e3e6ef20068f7f8d8c835d2d22fd5116444</td>\n",
       "      <td>84155363699941767867374641</td>\n",
       "      <td>1</td>\n",
       "    </tr>\n",
       "    <tr>\n",
       "      <th>1</th>\n",
       "      <td>0x7727e5113d1d161373623e5f49fd568b4f543a9e</td>\n",
       "      <td>45627128512915344587749920</td>\n",
       "      <td>2</td>\n",
       "    </tr>\n",
       "    <tr>\n",
       "      <th>2</th>\n",
       "      <td>0x209c4784ab1e8183cf58ca33cb740efbf3fc18ef</td>\n",
       "      <td>42552989136413198919298969</td>\n",
       "      <td>3</td>\n",
       "    </tr>\n",
       "    <tr>\n",
       "      <th>3</th>\n",
       "      <td>0xbfc39b6f805a9e40e77291aff27aee3c96915bdd</td>\n",
       "      <td>21104195138093660050000000</td>\n",
       "      <td>4</td>\n",
       "    </tr>\n",
       "    <tr>\n",
       "      <th>4</th>\n",
       "      <td>0xe94b04a0fed112f3664e45adb2b8915693dd5ff3</td>\n",
       "      <td>15543077635263742254719409</td>\n",
       "      <td>5</td>\n",
       "    </tr>\n",
       "    <tr>\n",
       "      <th>5</th>\n",
       "      <td>0xabbb6bebfa05aa13e908eaa492bd7a8343760477</td>\n",
       "      <td>10719485945628946136524680</td>\n",
       "      <td>6</td>\n",
       "    </tr>\n",
       "    <tr>\n",
       "      <th>6</th>\n",
       "      <td>0x341e790174e3a4d35b65fdc067b6b5634a61caea</td>\n",
       "      <td>8379000751917755624057500</td>\n",
       "      <td>7</td>\n",
       "    </tr>\n",
       "    <tr>\n",
       "      <th>7</th>\n",
       "      <td>0x58ae42a38d6b33a1e31492b60465fa80da595755</td>\n",
       "      <td>2902709187105736532863818</td>\n",
       "      <td>8</td>\n",
       "    </tr>\n",
       "    <tr>\n",
       "      <th>8</th>\n",
       "      <td>0xc7c7f6660102e9a1fee1390df5c76ea5a5572ed3</td>\n",
       "      <td>1238086114520042000000000</td>\n",
       "      <td>9</td>\n",
       "    </tr>\n",
       "    <tr>\n",
       "      <th>9</th>\n",
       "      <td>0xe28e72fcf78647adce1f1252f240bbfaebd63bcc</td>\n",
       "      <td>1172426432515823142714582</td>\n",
       "      <td>10</td>\n",
       "    </tr>\n",
       "  </tbody>\n",
       "</table>\n",
       "</div>"
      ],
      "text/plain": [
       "                                      Address                       Value  \\\n",
       "0  0xaa1a6e3e6ef20068f7f8d8c835d2d22fd5116444  84155363699941767867374641   \n",
       "1  0x7727e5113d1d161373623e5f49fd568b4f543a9e  45627128512915344587749920   \n",
       "2  0x209c4784ab1e8183cf58ca33cb740efbf3fc18ef  42552989136413198919298969   \n",
       "3  0xbfc39b6f805a9e40e77291aff27aee3c96915bdd  21104195138093660050000000   \n",
       "4  0xe94b04a0fed112f3664e45adb2b8915693dd5ff3  15543077635263742254719409   \n",
       "5  0xabbb6bebfa05aa13e908eaa492bd7a8343760477  10719485945628946136524680   \n",
       "6  0x341e790174e3a4d35b65fdc067b6b5634a61caea   8379000751917755624057500   \n",
       "7  0x58ae42a38d6b33a1e31492b60465fa80da595755   2902709187105736532863818   \n",
       "8  0xc7c7f6660102e9a1fee1390df5c76ea5a5572ed3   1238086114520042000000000   \n",
       "9  0xe28e72fcf78647adce1f1252f240bbfaebd63bcc   1172426432515823142714582   \n",
       "\n",
       "   Rank  \n",
       "0     1  \n",
       "1     2  \n",
       "2     3  \n",
       "3     4  \n",
       "4     5  \n",
       "5     6  \n",
       "6     7  \n",
       "7     8  \n",
       "8     9  \n",
       "9    10  "
      ]
     },
     "execution_count": 2,
     "metadata": {},
     "output_type": "execute_result"
    }
   ],
   "source": [
    "with open('output/top_smart_contracts.txt') as f:\n",
    "    data = json.load(f)\n",
    "df = pd.DataFrame(data, columns=[\"Address\", \"Value\"])\n",
    "df['Rank'] = df['Value'].rank(method='dense', ascending=False).astype(int)\n",
    "df.head(15)"
   ]
  },
  {
   "cell_type": "code",
   "execution_count": 3,
   "id": "1c387cfe-69b8-4f01-9ce4-b0fda176710f",
   "metadata": {
    "tags": []
   },
   "outputs": [],
   "source": [
    "import sys\n",
    "\n",
    "# Open a file for writing\n",
    "with open('output/top10_smart_contracts.md', 'w') as f:\n",
    "    # Redirect stdout to the file\n",
    "    sys.stdout = f\n",
    "    print(tabulate(df, headers='keys', tablefmt=\"github\", showindex=False))\n",
    "    \n",
    "    # Restore stdout to its original value\n",
    "    sys.stdout = sys.__stdout__\n"
   ]
  },
  {
   "cell_type": "code",
   "execution_count": null,
   "id": "aad5a601-db37-4ecf-9812-5c0240f611c6",
   "metadata": {},
   "outputs": [],
   "source": []
  }
 ],
 "metadata": {
  "kernelspec": {
   "display_name": "Python 3 (ipykernel)",
   "language": "python",
   "name": "python3"
  },
  "language_info": {
   "codemirror_mode": {
    "name": "ipython",
    "version": 3
   },
   "file_extension": ".py",
   "mimetype": "text/x-python",
   "name": "python",
   "nbconvert_exporter": "python",
   "pygments_lexer": "ipython3",
   "version": "3.10.6"
  }
 },
 "nbformat": 4,
 "nbformat_minor": 5
}
