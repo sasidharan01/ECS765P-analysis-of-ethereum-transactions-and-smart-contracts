{
 "cells": [
  {
   "cell_type": "code",
   "execution_count": 1,
   "id": "0f03731e-ab14-4cd4-b158-fee4fa782cf0",
   "metadata": {
    "tags": []
   },
   "outputs": [
    {
     "name": "stdout",
     "output_type": "stream",
     "text": [
      "Requirement already satisfied: tabulate in /opt/conda/lib/python3.10/site-packages (0.9.0)\n"
     ]
    }
   ],
   "source": [
    "!pip install tabulate\n",
    "import pandas as pd\n",
    "import json\n",
    "from tabulate import tabulate\n"
   ]
  },
  {
   "cell_type": "code",
   "execution_count": 12,
   "id": "518f9ae0-05ea-4b34-b760-055158d9d80c",
   "metadata": {
    "tags": []
   },
   "outputs": [
    {
     "data": {
      "text/html": [
       "<div>\n",
       "<style scoped>\n",
       "    .dataframe tbody tr th:only-of-type {\n",
       "        vertical-align: middle;\n",
       "    }\n",
       "\n",
       "    .dataframe tbody tr th {\n",
       "        vertical-align: top;\n",
       "    }\n",
       "\n",
       "    .dataframe thead th {\n",
       "        text-align: right;\n",
       "    }\n",
       "</style>\n",
       "<table border=\"1\" class=\"dataframe\">\n",
       "  <thead>\n",
       "    <tr style=\"text-align: right;\">\n",
       "      <th></th>\n",
       "      <th>Address</th>\n",
       "      <th>Value</th>\n",
       "      <th>Rank</th>\n",
       "    </tr>\n",
       "  </thead>\n",
       "  <tbody>\n",
       "    <tr>\n",
       "      <th>0</th>\n",
       "      <td>0xea674fdde714fd979de3edf0f56aa9716b898ec8</td>\n",
       "      <td>17453393724</td>\n",
       "      <td>1</td>\n",
       "    </tr>\n",
       "    <tr>\n",
       "      <th>1</th>\n",
       "      <td>0x829bd824b016326a401d083b33d092293333a830</td>\n",
       "      <td>12310472526</td>\n",
       "      <td>2</td>\n",
       "    </tr>\n",
       "    <tr>\n",
       "      <th>2</th>\n",
       "      <td>0x5a0b54d5dc17e0aadc383d2db43b0a0d3e029c4c</td>\n",
       "      <td>8825710065</td>\n",
       "      <td>3</td>\n",
       "    </tr>\n",
       "    <tr>\n",
       "      <th>3</th>\n",
       "      <td>0x52bc44d5378309ee2abf1539bf71de1b7d7be3b5</td>\n",
       "      <td>8451574409</td>\n",
       "      <td>4</td>\n",
       "    </tr>\n",
       "    <tr>\n",
       "      <th>4</th>\n",
       "      <td>0xb2930b35844a230f00e51431acae96fe543a0347</td>\n",
       "      <td>6614130661</td>\n",
       "      <td>5</td>\n",
       "    </tr>\n",
       "    <tr>\n",
       "      <th>5</th>\n",
       "      <td>0x2a65aca4d5fc5b5c859090a6c34d164135398226</td>\n",
       "      <td>3173096011</td>\n",
       "      <td>6</td>\n",
       "    </tr>\n",
       "    <tr>\n",
       "      <th>6</th>\n",
       "      <td>0xf3b9d2c81f2b24b0fa0acaaa865b7d9ced5fc2fb</td>\n",
       "      <td>1152847020</td>\n",
       "      <td>7</td>\n",
       "    </tr>\n",
       "    <tr>\n",
       "      <th>7</th>\n",
       "      <td>0x4bb96091ee9d802ed039c4d1a5f6216f90f81b01</td>\n",
       "      <td>1134151226</td>\n",
       "      <td>8</td>\n",
       "    </tr>\n",
       "    <tr>\n",
       "      <th>8</th>\n",
       "      <td>0x1e9939daaad6924ad004c2560e90804164900341</td>\n",
       "      <td>1080436358</td>\n",
       "      <td>9</td>\n",
       "    </tr>\n",
       "    <tr>\n",
       "      <th>9</th>\n",
       "      <td>0x61c808d82a3ac53231750dadc13c777b59310bd9</td>\n",
       "      <td>692942577</td>\n",
       "      <td>10</td>\n",
       "    </tr>\n",
       "  </tbody>\n",
       "</table>\n",
       "</div>"
      ],
      "text/plain": [
       "                                      Address        Value  Rank\n",
       "0  0xea674fdde714fd979de3edf0f56aa9716b898ec8  17453393724     1\n",
       "1  0x829bd824b016326a401d083b33d092293333a830  12310472526     2\n",
       "2  0x5a0b54d5dc17e0aadc383d2db43b0a0d3e029c4c   8825710065     3\n",
       "3  0x52bc44d5378309ee2abf1539bf71de1b7d7be3b5   8451574409     4\n",
       "4  0xb2930b35844a230f00e51431acae96fe543a0347   6614130661     5\n",
       "5  0x2a65aca4d5fc5b5c859090a6c34d164135398226   3173096011     6\n",
       "6  0xf3b9d2c81f2b24b0fa0acaaa865b7d9ced5fc2fb   1152847020     7\n",
       "7  0x4bb96091ee9d802ed039c4d1a5f6216f90f81b01   1134151226     8\n",
       "8  0x1e9939daaad6924ad004c2560e90804164900341   1080436358     9\n",
       "9  0x61c808d82a3ac53231750dadc13c777b59310bd9    692942577    10"
      ]
     },
     "execution_count": 12,
     "metadata": {},
     "output_type": "execute_result"
    }
   ],
   "source": [
    "with open('output/top_miners.txt') as f:\n",
    "    data = json.load(f)\n",
    "\n",
    "df = pd.DataFrame(data, columns=[\"Address\", \"Value\"])\n",
    "df['Rank'] = df['Value'].rank(method='dense', ascending=False).astype(int)\n",
    "df.head(10)\n"
   ]
  },
  {
   "cell_type": "code",
   "execution_count": null,
   "id": "6559de79-adec-4a72-b050-c033567ede9b",
   "metadata": {
    "tags": []
   },
   "outputs": [],
   "source": [
    "import sys\n",
    "\n",
    "# Open a file for writing\n",
    "with open('output/top10_miners.md', 'w') as f:\n",
    "    # Redirect stdout to the file\n",
    "    sys.stdout = f\n",
    "    print(tabulate(df, headers='keys', tablefmt=\"github\", showindex=False))\n",
    "    \n",
    "    # Restore stdout to its original value\n",
    "    sys.stdout = sys.__stdout__"
   ]
  },
  {
   "cell_type": "code",
   "execution_count": null,
   "id": "5f2d2dff-cddf-47cf-a2d2-96412a77ba89",
   "metadata": {},
   "outputs": [],
   "source": []
  }
 ],
 "metadata": {
  "kernelspec": {
   "display_name": "Python 3 (ipykernel)",
   "language": "python",
   "name": "python3"
  },
  "language_info": {
   "codemirror_mode": {
    "name": "ipython",
    "version": 3
   },
   "file_extension": ".py",
   "mimetype": "text/x-python",
   "name": "python",
   "nbconvert_exporter": "python",
   "pygments_lexer": "ipython3",
   "version": "3.10.6"
  }
 },
 "nbformat": 4,
 "nbformat_minor": 5
}
