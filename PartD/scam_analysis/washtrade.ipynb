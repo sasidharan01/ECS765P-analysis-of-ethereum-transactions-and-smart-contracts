{
 "cells": [
  {
   "cell_type": "code",
   "execution_count": 1,
   "id": "a480b793-3603-47bc-aec5-c38647e1adb5",
   "metadata": {
    "tags": []
   },
   "outputs": [
    {
     "name": "stdout",
     "output_type": "stream",
     "text": [
      "Requirement already satisfied: tabulate in /opt/conda/lib/python3.10/site-packages (0.9.0)\n"
     ]
    }
   ],
   "source": [
    "!pip install tabulate\n",
    "import ast\n",
    "import pandas as pd\n",
    "from tabulate import tabulate\n"
   ]
  },
  {
   "cell_type": "code",
   "execution_count": 16,
   "id": "1ba383f8-9f8c-402d-802e-f868d79280e3",
   "metadata": {
    "tags": []
   },
   "outputs": [
    {
     "data": {
      "text/html": [
       "<div>\n",
       "<style scoped>\n",
       "    .dataframe tbody tr th:only-of-type {\n",
       "        vertical-align: middle;\n",
       "    }\n",
       "\n",
       "    .dataframe tbody tr th {\n",
       "        vertical-align: top;\n",
       "    }\n",
       "\n",
       "    .dataframe thead th {\n",
       "        text-align: right;\n",
       "    }\n",
       "</style>\n",
       "<table border=\"1\" class=\"dataframe\">\n",
       "  <thead>\n",
       "    <tr style=\"text-align: right;\">\n",
       "      <th></th>\n",
       "      <th>Self Trade Addresses [from,to]</th>\n",
       "      <th>Value</th>\n",
       "      <th>Rank</th>\n",
       "    </tr>\n",
       "  </thead>\n",
       "  <tbody>\n",
       "    <tr>\n",
       "      <th>0</th>\n",
       "      <td>[0x02459d2ea9a008342d8685dae79d213f14a87d43, 0...</td>\n",
       "      <td>1.954853e+25</td>\n",
       "      <td>1</td>\n",
       "    </tr>\n",
       "    <tr>\n",
       "      <th>1</th>\n",
       "      <td>[0x32362fbfff69b9d31f3aae04faa56f0edee94b1d, 0...</td>\n",
       "      <td>5.295491e+24</td>\n",
       "      <td>2</td>\n",
       "    </tr>\n",
       "    <tr>\n",
       "      <th>2</th>\n",
       "      <td>[0x0c5437b0b6906321cca17af681d59baf60afe7d6, 0...</td>\n",
       "      <td>2.377153e+24</td>\n",
       "      <td>3</td>\n",
       "    </tr>\n",
       "    <tr>\n",
       "      <th>3</th>\n",
       "      <td>[0xdb6fd484cfa46eeeb73c71edee823e4812f9e2e1, 0...</td>\n",
       "      <td>4.154974e+23</td>\n",
       "      <td>4</td>\n",
       "    </tr>\n",
       "    <tr>\n",
       "      <th>4</th>\n",
       "      <td>[0xd24400ae8bfebb18ca49be86258a3c749cf46853, 0...</td>\n",
       "      <td>2.270001e+23</td>\n",
       "      <td>5</td>\n",
       "    </tr>\n",
       "    <tr>\n",
       "      <th>5</th>\n",
       "      <td>[0x5b76fbe76325b970dbfac763d5224ef999af9e86, 0...</td>\n",
       "      <td>7.873327e+22</td>\n",
       "      <td>6</td>\n",
       "    </tr>\n",
       "    <tr>\n",
       "      <th>6</th>\n",
       "      <td>[0xdd3e4522bdd3ec68bc5ff272bf2c64b9957d9563, 0...</td>\n",
       "      <td>5.790176e+22</td>\n",
       "      <td>7</td>\n",
       "    </tr>\n",
       "    <tr>\n",
       "      <th>7</th>\n",
       "      <td>[0x005864ea59b094db9ed88c05ffba3d3a3410592b, 0...</td>\n",
       "      <td>3.719900e+22</td>\n",
       "      <td>8</td>\n",
       "    </tr>\n",
       "    <tr>\n",
       "      <th>8</th>\n",
       "      <td>[0x4739928c37159f55689981b10524a62397a65d77, 0...</td>\n",
       "      <td>3.023900e+22</td>\n",
       "      <td>9</td>\n",
       "    </tr>\n",
       "    <tr>\n",
       "      <th>9</th>\n",
       "      <td>[0xb8326d2827b4cf33247c4512b72382f4c1190710, 0...</td>\n",
       "      <td>2.457200e+22</td>\n",
       "      <td>10</td>\n",
       "    </tr>\n",
       "  </tbody>\n",
       "</table>\n",
       "</div>"
      ],
      "text/plain": [
       "                      Self Trade Addresses [from,to]         Value  Rank\n",
       "0  [0x02459d2ea9a008342d8685dae79d213f14a87d43, 0...  1.954853e+25     1\n",
       "1  [0x32362fbfff69b9d31f3aae04faa56f0edee94b1d, 0...  5.295491e+24     2\n",
       "2  [0x0c5437b0b6906321cca17af681d59baf60afe7d6, 0...  2.377153e+24     3\n",
       "3  [0xdb6fd484cfa46eeeb73c71edee823e4812f9e2e1, 0...  4.154974e+23     4\n",
       "4  [0xd24400ae8bfebb18ca49be86258a3c749cf46853, 0...  2.270001e+23     5\n",
       "5  [0x5b76fbe76325b970dbfac763d5224ef999af9e86, 0...  7.873327e+22     6\n",
       "6  [0xdd3e4522bdd3ec68bc5ff272bf2c64b9957d9563, 0...  5.790176e+22     7\n",
       "7  [0x005864ea59b094db9ed88c05ffba3d3a3410592b, 0...  3.719900e+22     8\n",
       "8  [0x4739928c37159f55689981b10524a62397a65d77, 0...  3.023900e+22     9\n",
       "9  [0xb8326d2827b4cf33247c4512b72382f4c1190710, 0...  2.457200e+22    10"
      ]
     },
     "execution_count": 16,
     "metadata": {},
     "output_type": "execute_result"
    }
   ],
   "source": [
    "# Open the file and read its contents\n",
    "with open('output/top_washtrade.txt', 'r') as file:\n",
    "    contents = file.read()\n",
    "\n",
    "# Convert the string representation of the list to an actual list of lists\n",
    "data = ast.literal_eval(contents)\n",
    "\n",
    "# Convert the list of lists to a Pandas DataFrame\n",
    "df = pd.DataFrame(data, columns=['Self Trade Addresses [from,to]', 'Value'])\n",
    "df['Rank'] = df['Value'].rank(method='dense', ascending=False).astype(int)\n",
    "\n",
    "df = df.reset_index(drop=True)\n",
    "\n",
    "df.head(15)"
   ]
  },
  {
   "cell_type": "code",
   "execution_count": 10,
   "id": "d52b6441-3827-4d46-879c-9b417602d1de",
   "metadata": {
    "tags": []
   },
   "outputs": [],
   "source": [
    "import sys\n",
    "\n",
    "with open('output/top10_washtrades.md', 'w') as f:\n",
    "    sys.stdout = f\n",
    "    print(tabulate(df, headers='keys', tablefmt=\"github\"))\n",
    "    sys.stdout = sys.__stdout__\n"
   ]
  }
 ],
 "metadata": {
  "kernelspec": {
   "display_name": "Python 3 (ipykernel)",
   "language": "python",
   "name": "python3"
  },
  "language_info": {
   "codemirror_mode": {
    "name": "ipython",
    "version": 3
   },
   "file_extension": ".py",
   "mimetype": "text/x-python",
   "name": "python",
   "nbconvert_exporter": "python",
   "pygments_lexer": "ipython3",
   "version": "3.10.6"
  }
 },
 "nbformat": 4,
 "nbformat_minor": 5
}
